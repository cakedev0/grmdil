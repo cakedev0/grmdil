{
 "cells": [
  {
   "cell_type": "code",
   "execution_count": 13,
   "metadata": {},
   "outputs": [],
   "source": [
    "import numpy as np\n",
    "import pandas as pd\n",
    "from multiprocessing import Pool\n",
    "import os\n",
    "\n",
    "from cloudpoints import load_points\n",
    "from datasets import CloudDataset, label_names, df_results\n",
    "from pathlib import Path"
   ]
  },
  {
   "cell_type": "code",
   "execution_count": 14,
   "metadata": {},
   "outputs": [
    {
     "data": {
      "text/plain": [
       "[CloudDataset<paris1, 1896865 points, labeled>,\n",
       " CloudDataset<paris2, 2262453 points, labeled>,\n",
       " CloudDataset<lille1, 1901853 points, labeled>,\n",
       " CloudDataset<lille2, 2500428 points, labeled>,\n",
       " CloudDataset<dijon, 3079187 points, unlabeled>]"
      ]
     },
     "execution_count": 14,
     "metadata": {},
     "output_type": "execute_result"
    }
   ],
   "source": [
    "data_path = Path(\"3d_data/\")\n",
    "\n",
    "paris, paris_labels = load_points(data_path / \"MiniParis1.ply\")\n",
    "lille1, lille1_labels = load_points(data_path / \"MiniLille1.ply\")\n",
    "lille2, lille2_labels = load_points(data_path / \"MiniLille2.ply\")\n",
    "dijon = load_points(data_path / \"MiniDijon9.ply\")\n",
    "paris_wh = paris[:, 1] <= 20\n",
    "paris1, paris1_label = paris[paris_wh], paris_labels[paris_wh]\n",
    "paris2, paris2_label = paris[~paris_wh], paris_labels[~paris_wh]\n",
    "\n",
    "datasets = [\n",
    "    CloudDataset(\"paris1\", paris1, paris1_label),\n",
    "    CloudDataset(\"paris2\", paris2, paris2_label),\n",
    "    CloudDataset(\"lille1\", lille1, lille1_labels),\n",
    "    CloudDataset(\"lille2\", lille2, lille2_labels),\n",
    "    CloudDataset(\"dijon\", dijon)\n",
    "]\n",
    "datasets"
   ]
  },
  {
   "cell_type": "code",
   "execution_count": 15,
   "metadata": {},
   "outputs": [],
   "source": [
    "inputs = [\n",
    "    \"paris1\",\n",
    "    \"paris2\",\n",
    "    \"lille1\",\n",
    "    \"lille2\"\n",
    "]\n",
    "\n",
    "def run_GRM_executable(exec_name, input, args=\"\"):\n",
    "    GRM_path = \"GRM_data\"\n",
    "    os.system(f\"./{exec_name} {args} < {GRM_path}/{input}_GRM.in > {GRM_path}/{input}_GRM.out\")\n",
    "\n",
    "def run_GRM_executable_all(exec_name, args=\"\"):\n",
    "    with Pool(len(inputs)) as p:\n",
    "        p.starmap(run_GRM_executable, [(exec_name, input, args) for input in inputs])\n",
    "        \n",
    "def get_clf_labels(input):\n",
    "    with open(f\"GRM_data/{input}_GRM.in\") as f:\n",
    "        lines = [l.strip().split(\" \") for l in f.readlines()]\n",
    "    \n",
    "    n, _ = lines[0]\n",
    "    n = int(n)\n",
    "    P = np.array([[float(f) for f in l] for l in lines[1:n+1]])\n",
    "    return np.argmax(P, axis=1) + 1"
   ]
  },
  {
   "cell_type": "markdown",
   "metadata": {},
   "source": [
    "Run your GRM executable : "
   ]
  },
  {
   "cell_type": "code",
   "execution_count": 22,
   "metadata": {},
   "outputs": [
    {
     "name": "stdout",
     "output_type": "stream",
     "text": [
      "CPU times: user 123 ms, sys: 224 ms, total: 347 ms\n",
      "Wall time: 2min 15s\n"
     ]
    }
   ],
   "source": [
    "%%time\n",
    "run_GRM_executable_all(\"repeated_tree_BP.out\", args=\"10.0 0.05 10\")"
   ]
  },
  {
   "cell_type": "code",
   "execution_count": 35,
   "metadata": {},
   "outputs": [
    {
     "data": {
      "text/plain": [
       "38.64402350288662"
      ]
     },
     "execution_count": 35,
     "metadata": {},
     "output_type": "execute_result"
    }
   ],
   "source": [
    "true_labels.size / 58546"
   ]
  },
  {
   "cell_type": "code",
   "execution_count": 34,
   "metadata": {},
   "outputs": [],
   "source": [
    "i = 1\n",
    "\n",
    "GRM_labels = np.array(pd.read_csv(f\"GRM_data/{inputs[i]}_GRM.out\", header=None)[0])\n",
    "true_labels = np.array(pd.read_csv(f\"GRM_data/{inputs[i]}_labels.txt\", header=None)[0])\n",
    "\n",
    "dataset = datasets[i]\n",
    "\n",
    "dataset.write_ply_with_labels(f\"viz_data/{inputs[i]}_GRM.ply\", GRM_labels.astype(np.int32))\n",
    "dataset.write_ply_with_labels(f\"viz_data/{inputs[i]}_true.ply\", true_labels.astype(np.int32))\n",
    "\n",
    "clf_labels = get_clf_labels(inputs[i])\n",
    "dataset.write_ply_with_labels(f\"viz_data/{inputs[i]}_clf.ply\", clf_labels.astype(np.int32))"
   ]
  },
  {
   "cell_type": "code",
   "execution_count": 33,
   "metadata": {},
   "outputs": [
    {
     "name": "stdout",
     "output_type": "stream",
     "text": [
      "Score: 0.6130165278541001\n"
     ]
    },
    {
     "data": {
      "text/html": [
       "<div>\n",
       "<style scoped>\n",
       "    .dataframe tbody tr th:only-of-type {\n",
       "        vertical-align: middle;\n",
       "    }\n",
       "\n",
       "    .dataframe tbody tr th {\n",
       "        vertical-align: top;\n",
       "    }\n",
       "\n",
       "    .dataframe thead th {\n",
       "        text-align: right;\n",
       "    }\n",
       "</style>\n",
       "<table border=\"1\" class=\"dataframe\">\n",
       "  <thead>\n",
       "    <tr style=\"text-align: right;\">\n",
       "      <th></th>\n",
       "      <th>precision</th>\n",
       "      <th>recall</th>\n",
       "      <th>IoU</th>\n",
       "    </tr>\n",
       "  </thead>\n",
       "  <tbody>\n",
       "    <tr>\n",
       "      <th>1 - Ground</th>\n",
       "      <td>0.972346</td>\n",
       "      <td>0.975110</td>\n",
       "      <td>0.954209</td>\n",
       "    </tr>\n",
       "    <tr>\n",
       "      <th>2 - Building</th>\n",
       "      <td>0.681744</td>\n",
       "      <td>0.919892</td>\n",
       "      <td>0.831416</td>\n",
       "    </tr>\n",
       "    <tr>\n",
       "      <th>3 - Poles</th>\n",
       "      <td>0.318220</td>\n",
       "      <td>0.419161</td>\n",
       "      <td>0.228451</td>\n",
       "    </tr>\n",
       "    <tr>\n",
       "      <th>4 - Pedestrians</th>\n",
       "      <td>0.523903</td>\n",
       "      <td>0.606700</td>\n",
       "      <td>0.431543</td>\n",
       "    </tr>\n",
       "    <tr>\n",
       "      <th>5 - Cars</th>\n",
       "      <td>0.538792</td>\n",
       "      <td>0.341440</td>\n",
       "      <td>0.327014</td>\n",
       "    </tr>\n",
       "    <tr>\n",
       "      <th>6 - Vegetation</th>\n",
       "      <td>0.917571</td>\n",
       "      <td>0.956145</td>\n",
       "      <td>0.905466</td>\n",
       "    </tr>\n",
       "  </tbody>\n",
       "</table>\n",
       "</div>"
      ],
      "text/plain": [
       "                 precision    recall       IoU\n",
       "1 - Ground        0.972346  0.975110  0.954209\n",
       "2 - Building      0.681744  0.919892  0.831416\n",
       "3 - Poles         0.318220  0.419161  0.228451\n",
       "4 - Pedestrians   0.523903  0.606700  0.431543\n",
       "5 - Cars          0.538792  0.341440  0.327014\n",
       "6 - Vegetation    0.917571  0.956145  0.905466"
      ]
     },
     "execution_count": 33,
     "metadata": {},
     "output_type": "execute_result"
    }
   ],
   "source": [
    "df = df_results(true_labels, GRM_labels)\n",
    "print(\"Score:\", df[\"IoU\"].mean())\n",
    "df"
   ]
  },
  {
   "cell_type": "code",
   "execution_count": 27,
   "metadata": {},
   "outputs": [
    {
     "ename": "IndexError",
     "evalue": "boolean index did not match indexed array along dimension 0; dimension is 1901853 but corresponding boolean dimension is 2262453",
     "output_type": "error",
     "traceback": [
      "\u001b[0;31m---------------------------------------------------------------------------\u001b[0m",
      "\u001b[0;31mIndexError\u001b[0m                                Traceback (most recent call last)",
      "\u001b[0;32m<ipython-input-27-f1313104b9ef>\u001b[0m in \u001b[0;36m<module>\u001b[0;34m()\u001b[0m\n\u001b[0;32m----> 1\u001b[0;31m \u001b[0mdf\u001b[0m \u001b[0;34m=\u001b[0m \u001b[0mdf_results\u001b[0m\u001b[0;34m(\u001b[0m\u001b[0mtrue_labels\u001b[0m\u001b[0;34m,\u001b[0m \u001b[0mclf_labels\u001b[0m\u001b[0;34m)\u001b[0m\u001b[0;34m\u001b[0m\u001b[0;34m\u001b[0m\u001b[0m\n\u001b[0m\u001b[1;32m      2\u001b[0m \u001b[0mprint\u001b[0m\u001b[0;34m(\u001b[0m\u001b[0;34m\"Score:\"\u001b[0m\u001b[0;34m,\u001b[0m \u001b[0mdf\u001b[0m\u001b[0;34m[\u001b[0m\u001b[0;34m\"IoU\"\u001b[0m\u001b[0;34m]\u001b[0m\u001b[0;34m.\u001b[0m\u001b[0mmean\u001b[0m\u001b[0;34m(\u001b[0m\u001b[0;34m)\u001b[0m\u001b[0;34m)\u001b[0m\u001b[0;34m\u001b[0m\u001b[0;34m\u001b[0m\u001b[0m\n\u001b[1;32m      3\u001b[0m \u001b[0mdf\u001b[0m\u001b[0;34m\u001b[0m\u001b[0;34m\u001b[0m\u001b[0m\n",
      "\u001b[0;32m~/grmdil/datasets.py\u001b[0m in \u001b[0;36mdf_results\u001b[0;34m(labels_test, labels_pred)\u001b[0m\n\u001b[1;32m    122\u001b[0m     \u001b[0;32mfor\u001b[0m \u001b[0mc\u001b[0m \u001b[0;32min\u001b[0m \u001b[0mrange\u001b[0m\u001b[0;34m(\u001b[0m\u001b[0;36m1\u001b[0m\u001b[0;34m,\u001b[0m \u001b[0;36m7\u001b[0m\u001b[0;34m)\u001b[0m\u001b[0;34m:\u001b[0m\u001b[0;34m\u001b[0m\u001b[0;34m\u001b[0m\u001b[0m\n\u001b[1;32m    123\u001b[0m         \u001b[0;32mif\u001b[0m\u001b[0;34m(\u001b[0m\u001b[0mnp\u001b[0m\u001b[0;34m.\u001b[0m\u001b[0msum\u001b[0m\u001b[0;34m(\u001b[0m\u001b[0mlabels_test\u001b[0m \u001b[0;34m==\u001b[0m \u001b[0mc\u001b[0m\u001b[0;34m)\u001b[0m \u001b[0;34m>\u001b[0m \u001b[0;36m0\u001b[0m\u001b[0;34m)\u001b[0m\u001b[0;34m:\u001b[0m\u001b[0;34m\u001b[0m\u001b[0;34m\u001b[0m\u001b[0m\n\u001b[0;32m--> 124\u001b[0;31m             \u001b[0mprecisions\u001b[0m\u001b[0;34m.\u001b[0m\u001b[0mappend\u001b[0m\u001b[0;34m(\u001b[0m\u001b[0mnp\u001b[0m\u001b[0;34m.\u001b[0m\u001b[0mmean\u001b[0m\u001b[0;34m(\u001b[0m\u001b[0mlabels_test\u001b[0m\u001b[0;34m[\u001b[0m\u001b[0mlabels_pred\u001b[0m \u001b[0;34m==\u001b[0m \u001b[0mc\u001b[0m\u001b[0;34m]\u001b[0m \u001b[0;34m==\u001b[0m \u001b[0mc\u001b[0m\u001b[0;34m)\u001b[0m\u001b[0;34m)\u001b[0m\u001b[0;34m\u001b[0m\u001b[0;34m\u001b[0m\u001b[0m\n\u001b[0m\u001b[1;32m    125\u001b[0m             \u001b[0mrecalls\u001b[0m\u001b[0;34m.\u001b[0m\u001b[0mappend\u001b[0m\u001b[0;34m(\u001b[0m\u001b[0mnp\u001b[0m\u001b[0;34m.\u001b[0m\u001b[0mmean\u001b[0m\u001b[0;34m(\u001b[0m\u001b[0mlabels_pred\u001b[0m\u001b[0;34m[\u001b[0m\u001b[0mlabels_test\u001b[0m \u001b[0;34m==\u001b[0m \u001b[0mc\u001b[0m\u001b[0;34m]\u001b[0m \u001b[0;34m==\u001b[0m \u001b[0mc\u001b[0m\u001b[0;34m)\u001b[0m\u001b[0;34m)\u001b[0m\u001b[0;34m\u001b[0m\u001b[0;34m\u001b[0m\u001b[0m\n\u001b[1;32m    126\u001b[0m             IoUs.append(np.sum((labels_pred == c) & (labels_test == c)) / \\\n",
      "\u001b[0;31mIndexError\u001b[0m: boolean index did not match indexed array along dimension 0; dimension is 1901853 but corresponding boolean dimension is 2262453"
     ]
    }
   ],
   "source": [
    "df = df_results(true_labels, clf_labels)\n",
    "print(\"Score:\", df[\"IoU\"].mean())\n",
    "df"
   ]
  },
  {
   "cell_type": "code",
   "execution_count": null,
   "metadata": {},
   "outputs": [],
   "source": []
  }
 ],
 "metadata": {
  "kernelspec": {
   "display_name": "Python 3",
   "language": "python",
   "name": "python3"
  },
  "language_info": {
   "codemirror_mode": {
    "name": "ipython",
    "version": 3
   },
   "file_extension": ".py",
   "mimetype": "text/x-python",
   "name": "python",
   "nbconvert_exporter": "python",
   "pygments_lexer": "ipython3",
   "version": "3.7.4"
  }
 },
 "nbformat": 4,
 "nbformat_minor": 2
}
