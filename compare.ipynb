{
 "cells": [
  {
   "cell_type": "code",
   "execution_count": 1,
   "metadata": {},
   "outputs": [],
   "source": [
    "import numpy as np\n",
    "import pandas as pd\n",
    "from multiprocessing import Pool\n",
    "import os\n",
    "\n",
    "from cloudpoints import load_points\n",
    "from datasets import CloudDataset, label_names, df_results\n",
    "from pathlib import Path"
   ]
  },
  {
   "cell_type": "code",
   "execution_count": 2,
   "metadata": {},
   "outputs": [
    {
     "data": {
      "text/plain": [
       "[CloudDataset<paris1, 1896865 points, labeled>,\n",
       " CloudDataset<paris2, 2262453 points, labeled>,\n",
       " CloudDataset<lille1, 1901853 points, labeled>,\n",
       " CloudDataset<lille2, 2500428 points, labeled>,\n",
       " CloudDataset<dijon, 3079187 points, unlabeled>]"
      ]
     },
     "execution_count": 2,
     "metadata": {},
     "output_type": "execute_result"
    }
   ],
   "source": [
    "data_path = Path(\"3d_data/\")\n",
    "\n",
    "paris, paris_labels = load_points(data_path / \"MiniParis1.ply\")\n",
    "lille1, lille1_labels = load_points(data_path / \"MiniLille1.ply\")\n",
    "lille2, lille2_labels = load_points(data_path / \"MiniLille2.ply\")\n",
    "dijon = load_points(data_path / \"MiniDijon9.ply\")\n",
    "paris_wh = paris[:, 1] <= 20\n",
    "paris1, paris1_label = paris[paris_wh], paris_labels[paris_wh]\n",
    "paris2, paris2_label = paris[~paris_wh], paris_labels[~paris_wh]\n",
    "\n",
    "datasets = [\n",
    "    CloudDataset(\"paris1\", paris1, paris1_label),\n",
    "    CloudDataset(\"paris2\", paris2, paris2_label),\n",
    "    CloudDataset(\"lille1\", lille1, lille1_labels),\n",
    "    CloudDataset(\"lille2\", lille2, lille2_labels),\n",
    "    CloudDataset(\"dijon\", dijon)\n",
    "]\n",
    "datasets"
   ]
  },
  {
   "cell_type": "code",
   "execution_count": 3,
   "metadata": {},
   "outputs": [],
   "source": [
    "inputs = [\n",
    "    \"paris1\",\n",
    "    \"paris2\",\n",
    "    \"lille1\",\n",
    "    \"lille2\"\n",
    "]\n",
    "\n",
    "def run_GRM_executable(exec_name, input, args=\"\"):\n",
    "    GRM_path = \"GRM_data\"\n",
    "    os.system(f\"./{exec_name} {args} < {GRM_path}/{input}_GRM.in > {GRM_path}/{input}_GRM.out\")\n",
    "\n",
    "def run_GRM_executable_all(exec_name, args=\"\"):\n",
    "    with Pool(len(inputs)) as p:\n",
    "        p.starmap(run_GRM_executable, [(exec_name, input, args) for input in inputs])\n",
    "        \n",
    "def get_clf_labels(input):\n",
    "    with open(f\"GRM_data/{input}_GRM.in\") as f:\n",
    "        lines = [l.strip().split(\" \") for l in f.readlines()]\n",
    "    \n",
    "    n, _ = lines[0]\n",
    "    n = int(n)\n",
    "    P = np.array([[float(f) for f in l] for l in lines[1:n+1]])\n",
    "    return np.argmax(P, axis=1) + 1"
   ]
  },
  {
   "cell_type": "markdown",
   "metadata": {},
   "source": [
    "Run your GRM executable : "
   ]
  },
  {
   "cell_type": "code",
   "execution_count": 8,
   "metadata": {},
   "outputs": [
    {
     "name": "stdout",
     "output_type": "stream",
     "text": [
      "CPU times: user 90.3 ms, sys: 120 ms, total: 210 ms\n",
      "Wall time: 1min 45s\n"
     ]
    }
   ],
   "source": [
    "%%time\n",
    "run_GRM_executable_all(\"repeated_tree_BP.out\", \"5.0 0.2 10\")"
   ]
  },
  {
   "cell_type": "code",
   "execution_count": 10,
   "metadata": {},
   "outputs": [],
   "source": [
    "i = 1\n",
    "\n",
    "GRM_labels = np.array(pd.read_csv(f\"GRM_data/{inputs[i]}_GRM.out\", header=None)[0])\n",
    "true_labels = np.array(pd.read_csv(f\"GRM_data/{inputs[i]}_labels.txt\", header=None)[0])\n",
    "clf_labels = get_clf_labels(inputs[i])\n",
    "\n",
    "dataset = datasets[i]\n",
    "dataset.write_ply_with_labels(f\"viz_data/{inputs[i]}_clf.ply\", clf_labels.astype(np.int32))\n",
    "dataset.write_ply_with_labels(f\"viz_data/{inputs[i]}_GRM.ply\", GRM_labels.astype(np.int32))\n",
    "dataset.write_ply_with_labels(f\"viz_data/{inputs[i]}_true.ply\", true_labels.astype(np.int32))"
   ]
  },
  {
   "cell_type": "code",
   "execution_count": 11,
   "metadata": {},
   "outputs": [
    {
     "name": "stdout",
     "output_type": "stream",
     "text": [
      "Score: 0.5000576169046954\n"
     ]
    },
    {
     "data": {
      "text/html": [
       "<div>\n",
       "<style scoped>\n",
       "    .dataframe tbody tr th:only-of-type {\n",
       "        vertical-align: middle;\n",
       "    }\n",
       "\n",
       "    .dataframe tbody tr th {\n",
       "        vertical-align: top;\n",
       "    }\n",
       "\n",
       "    .dataframe thead th {\n",
       "        text-align: right;\n",
       "    }\n",
       "</style>\n",
       "<table border=\"1\" class=\"dataframe\">\n",
       "  <thead>\n",
       "    <tr style=\"text-align: right;\">\n",
       "      <th></th>\n",
       "      <th>precision</th>\n",
       "      <th>recall</th>\n",
       "      <th>IoU</th>\n",
       "    </tr>\n",
       "  </thead>\n",
       "  <tbody>\n",
       "    <tr>\n",
       "      <th>1 - Ground</th>\n",
       "      <td>0.961119</td>\n",
       "      <td>0.976041</td>\n",
       "      <td>0.945934</td>\n",
       "    </tr>\n",
       "    <tr>\n",
       "      <th>2 - Building</th>\n",
       "      <td>0.657976</td>\n",
       "      <td>0.935295</td>\n",
       "      <td>0.818093</td>\n",
       "    </tr>\n",
       "    <tr>\n",
       "      <th>3 - Poles</th>\n",
       "      <td>0.782003</td>\n",
       "      <td>0.287136</td>\n",
       "      <td>0.266795</td>\n",
       "    </tr>\n",
       "    <tr>\n",
       "      <th>4 - Pedestrians</th>\n",
       "      <td>0.511811</td>\n",
       "      <td>0.036907</td>\n",
       "      <td>0.035908</td>\n",
       "    </tr>\n",
       "    <tr>\n",
       "      <th>5 - Cars</th>\n",
       "      <td>0.871625</td>\n",
       "      <td>0.041863</td>\n",
       "      <td>0.041824</td>\n",
       "    </tr>\n",
       "    <tr>\n",
       "      <th>6 - Vegetation</th>\n",
       "      <td>0.909547</td>\n",
       "      <td>0.949207</td>\n",
       "      <td>0.891791</td>\n",
       "    </tr>\n",
       "  </tbody>\n",
       "</table>\n",
       "</div>"
      ],
      "text/plain": [
       "                 precision    recall       IoU\n",
       "1 - Ground        0.961119  0.976041  0.945934\n",
       "2 - Building      0.657976  0.935295  0.818093\n",
       "3 - Poles         0.782003  0.287136  0.266795\n",
       "4 - Pedestrians   0.511811  0.036907  0.035908\n",
       "5 - Cars          0.871625  0.041863  0.041824\n",
       "6 - Vegetation    0.909547  0.949207  0.891791"
      ]
     },
     "execution_count": 11,
     "metadata": {},
     "output_type": "execute_result"
    }
   ],
   "source": [
    "df = df_results(true_labels, GRM_labels)\n",
    "print(\"Score:\", df[\"IoU\"].mean())\n",
    "df"
   ]
  },
  {
   "cell_type": "code",
   "execution_count": 12,
   "metadata": {},
   "outputs": [
    {
     "name": "stdout",
     "output_type": "stream",
     "text": [
      "Score: 0.4826614824699731\n"
     ]
    },
    {
     "data": {
      "text/html": [
       "<div>\n",
       "<style scoped>\n",
       "    .dataframe tbody tr th:only-of-type {\n",
       "        vertical-align: middle;\n",
       "    }\n",
       "\n",
       "    .dataframe tbody tr th {\n",
       "        vertical-align: top;\n",
       "    }\n",
       "\n",
       "    .dataframe thead th {\n",
       "        text-align: right;\n",
       "    }\n",
       "</style>\n",
       "<table border=\"1\" class=\"dataframe\">\n",
       "  <thead>\n",
       "    <tr style=\"text-align: right;\">\n",
       "      <th></th>\n",
       "      <th>precision</th>\n",
       "      <th>recall</th>\n",
       "      <th>IoU</th>\n",
       "    </tr>\n",
       "  </thead>\n",
       "  <tbody>\n",
       "    <tr>\n",
       "      <th>1 - Ground</th>\n",
       "      <td>0.944321</td>\n",
       "      <td>0.968637</td>\n",
       "      <td>0.928423</td>\n",
       "    </tr>\n",
       "    <tr>\n",
       "      <th>2 - Building</th>\n",
       "      <td>0.634608</td>\n",
       "      <td>0.873523</td>\n",
       "      <td>0.731533</td>\n",
       "    </tr>\n",
       "    <tr>\n",
       "      <th>3 - Poles</th>\n",
       "      <td>0.497966</td>\n",
       "      <td>0.253888</td>\n",
       "      <td>0.209742</td>\n",
       "    </tr>\n",
       "    <tr>\n",
       "      <th>4 - Pedestrians</th>\n",
       "      <td>0.284959</td>\n",
       "      <td>0.127472</td>\n",
       "      <td>0.104072</td>\n",
       "    </tr>\n",
       "    <tr>\n",
       "      <th>5 - Cars</th>\n",
       "      <td>0.508233</td>\n",
       "      <td>0.115983</td>\n",
       "      <td>0.111357</td>\n",
       "    </tr>\n",
       "    <tr>\n",
       "      <th>6 - Vegetation</th>\n",
       "      <td>0.858031</td>\n",
       "      <td>0.897464</td>\n",
       "      <td>0.810842</td>\n",
       "    </tr>\n",
       "  </tbody>\n",
       "</table>\n",
       "</div>"
      ],
      "text/plain": [
       "                 precision    recall       IoU\n",
       "1 - Ground        0.944321  0.968637  0.928423\n",
       "2 - Building      0.634608  0.873523  0.731533\n",
       "3 - Poles         0.497966  0.253888  0.209742\n",
       "4 - Pedestrians   0.284959  0.127472  0.104072\n",
       "5 - Cars          0.508233  0.115983  0.111357\n",
       "6 - Vegetation    0.858031  0.897464  0.810842"
      ]
     },
     "execution_count": 12,
     "metadata": {},
     "output_type": "execute_result"
    }
   ],
   "source": [
    "df = df_results(true_labels, clf_labels)\n",
    "print(\"Score:\", df[\"IoU\"].mean())\n",
    "df"
   ]
  }
 ],
 "metadata": {
  "kernelspec": {
   "display_name": "Python 3",
   "language": "python",
   "name": "python3"
  },
  "language_info": {
   "codemirror_mode": {
    "name": "ipython",
    "version": 3
   },
   "file_extension": ".py",
   "mimetype": "text/x-python",
   "name": "python",
   "nbconvert_exporter": "python",
   "pygments_lexer": "ipython3",
   "version": "3.7.4"
  }
 },
 "nbformat": 4,
 "nbformat_minor": 2
}
